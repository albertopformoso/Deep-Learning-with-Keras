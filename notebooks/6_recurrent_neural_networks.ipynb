{
 "cells": [
  {
   "cell_type": "markdown",
   "metadata": {},
   "source": [
    "# Recurrent Neural Networks"
   ]
  },
  {
   "cell_type": "code",
   "execution_count": 1,
   "metadata": {},
   "outputs": [],
   "source": [
    "import pandas as pd\n",
    "import numpy as np\n",
    "%matplotlib inline\n",
    "import matplotlib.pyplot as plt"
   ]
  },
  {
   "cell_type": "markdown",
   "metadata": {},
   "source": [
    "## Time series forecasting"
   ]
  },
  {
   "cell_type": "code",
   "execution_count": 2,
   "metadata": {},
   "outputs": [
    {
     "data": {
      "text/html": [
       "<div>\n",
       "<style scoped>\n",
       "    .dataframe tbody tr th:only-of-type {\n",
       "        vertical-align: middle;\n",
       "    }\n",
       "\n",
       "    .dataframe tbody tr th {\n",
       "        vertical-align: top;\n",
       "    }\n",
       "\n",
       "    .dataframe thead th {\n",
       "        text-align: right;\n",
       "    }\n",
       "</style>\n",
       "<table border=\"1\" class=\"dataframe\">\n",
       "  <thead>\n",
       "    <tr style=\"text-align: right;\">\n",
       "      <th></th>\n",
       "      <th>Adjustments</th>\n",
       "      <th>Unadjusted</th>\n",
       "      <th>Seasonally adjusted</th>\n",
       "    </tr>\n",
       "  </thead>\n",
       "  <tbody>\n",
       "    <tr>\n",
       "      <th>0</th>\n",
       "      <td>Jan-1991</td>\n",
       "      <td>12588862</td>\n",
       "      <td>15026890</td>\n",
       "    </tr>\n",
       "    <tr>\n",
       "      <th>1</th>\n",
       "      <td>Feb-1991</td>\n",
       "      <td>12154321</td>\n",
       "      <td>15304585</td>\n",
       "    </tr>\n",
       "    <tr>\n",
       "      <th>2</th>\n",
       "      <td>Mar-1991</td>\n",
       "      <td>14337072</td>\n",
       "      <td>15413591</td>\n",
       "    </tr>\n",
       "    <tr>\n",
       "      <th>3</th>\n",
       "      <td>Apr-1991</td>\n",
       "      <td>15108570</td>\n",
       "      <td>15293409</td>\n",
       "    </tr>\n",
       "    <tr>\n",
       "      <th>4</th>\n",
       "      <td>May-1991</td>\n",
       "      <td>17225734</td>\n",
       "      <td>15676083</td>\n",
       "    </tr>\n",
       "  </tbody>\n",
       "</table>\n",
       "</div>"
      ],
      "text/plain": [
       "  Adjustments  Unadjusted  Seasonally adjusted\n",
       "0    Jan-1991    12588862             15026890\n",
       "1    Feb-1991    12154321             15304585\n",
       "2    Mar-1991    14337072             15413591\n",
       "3    Apr-1991    15108570             15293409\n",
       "4    May-1991    17225734             15676083"
      ]
     },
     "execution_count": 2,
     "metadata": {},
     "output_type": "execute_result"
    }
   ],
   "source": [
    "df = pd.read_csv('../data/cansim-0800020-eng-6674700030567901031.csv',\n",
    "                 skiprows=6, skipfooter=9,\n",
    "                 engine='python')\n",
    "df.head()"
   ]
  },
  {
   "cell_type": "code",
   "execution_count": 3,
   "metadata": {},
   "outputs": [],
   "source": [
    "from pandas.tseries.offsets import MonthEnd"
   ]
  },
  {
   "cell_type": "code",
   "execution_count": 4,
   "metadata": {},
   "outputs": [
    {
     "data": {
      "text/html": [
       "<div>\n",
       "<style scoped>\n",
       "    .dataframe tbody tr th:only-of-type {\n",
       "        vertical-align: middle;\n",
       "    }\n",
       "\n",
       "    .dataframe tbody tr th {\n",
       "        vertical-align: top;\n",
       "    }\n",
       "\n",
       "    .dataframe thead th {\n",
       "        text-align: right;\n",
       "    }\n",
       "</style>\n",
       "<table border=\"1\" class=\"dataframe\">\n",
       "  <thead>\n",
       "    <tr style=\"text-align: right;\">\n",
       "      <th></th>\n",
       "      <th>Unadjusted</th>\n",
       "      <th>Seasonally adjusted</th>\n",
       "    </tr>\n",
       "    <tr>\n",
       "      <th>Adjustments</th>\n",
       "      <th></th>\n",
       "      <th></th>\n",
       "    </tr>\n",
       "  </thead>\n",
       "  <tbody>\n",
       "    <tr>\n",
       "      <th>1991-01-31</th>\n",
       "      <td>12588862</td>\n",
       "      <td>15026890</td>\n",
       "    </tr>\n",
       "    <tr>\n",
       "      <th>1991-02-28</th>\n",
       "      <td>12154321</td>\n",
       "      <td>15304585</td>\n",
       "    </tr>\n",
       "    <tr>\n",
       "      <th>1991-03-31</th>\n",
       "      <td>14337072</td>\n",
       "      <td>15413591</td>\n",
       "    </tr>\n",
       "    <tr>\n",
       "      <th>1991-04-30</th>\n",
       "      <td>15108570</td>\n",
       "      <td>15293409</td>\n",
       "    </tr>\n",
       "    <tr>\n",
       "      <th>1991-05-31</th>\n",
       "      <td>17225734</td>\n",
       "      <td>15676083</td>\n",
       "    </tr>\n",
       "  </tbody>\n",
       "</table>\n",
       "</div>"
      ],
      "text/plain": [
       "             Unadjusted  Seasonally adjusted\n",
       "Adjustments                                 \n",
       "1991-01-31     12588862             15026890\n",
       "1991-02-28     12154321             15304585\n",
       "1991-03-31     14337072             15413591\n",
       "1991-04-30     15108570             15293409\n",
       "1991-05-31     17225734             15676083"
      ]
     },
     "execution_count": 4,
     "metadata": {},
     "output_type": "execute_result"
    }
   ],
   "source": [
    "df['Adjustments'] = pd.to_datetime(df['Adjustments']) + MonthEnd(1)\n",
    "df = df.set_index('Adjustments')\n",
    "df.head()"
   ]
  },
  {
   "cell_type": "code",
   "execution_count": 5,
   "metadata": {},
   "outputs": [
    {
     "data": {
      "image/png": "[encoded data removed]",
      "text/plain": [
       "<Figure size 432x288 with 1 Axes>"
      ]
     },
     "metadata": {
      "needs_background": "light"
     },
     "output_type": "display_data"
    }
   ],
   "source": [
    "df.plot();"
   ]
  },
  {
   "cell_type": "code",
   "execution_count": 6,
   "metadata": {},
   "outputs": [],
   "source": [
    "split_date = pd.Timestamp('01-01-2011')"
   ]
  },
  {
   "cell_type": "code",
   "execution_count": 7,
   "metadata": {},
   "outputs": [],
   "source": [
    "train = df.loc[:split_date, ['Unadjusted']]\n",
    "test = df.loc[split_date:, ['Unadjusted']]"
   ]
  },
  {
   "cell_type": "code",
   "execution_count": 8,
   "metadata": {},
   "outputs": [
    {
     "data": {
      "image/png": "[encoded data removed]",
      "text/plain": [
       "<Figure size 432x288 with 1 Axes>"
      ]
     },
     "metadata": {
      "needs_background": "light"
     },
     "output_type": "display_data"
    }
   ],
   "source": [
    "ax = train.plot()\n",
    "test.plot(ax=ax)\n",
    "plt.legend(['train', 'test']);"
   ]
  },
  {
   "cell_type": "code",
   "execution_count": 9,
   "metadata": {},
   "outputs": [],
   "source": [
    "from sklearn.preprocessing import MinMaxScaler\n",
    "\n",
    "sc = MinMaxScaler()\n",
    "\n",
    "train_sc = sc.fit_transform(train)\n",
    "test_sc = sc.transform(test)"
   ]
  },
  {
   "cell_type": "code",
   "execution_count": 10,
   "metadata": {},
   "outputs": [
    {
     "data": {
      "text/plain": [
       "array([[0.01402033],\n",
       "       [0.        ],\n",
       "       [0.0704258 ],\n",
       "       [0.09531795]])"
      ]
     },
     "execution_count": 10,
     "metadata": {},
     "output_type": "execute_result"
    }
   ],
   "source": [
    "train_sc[:4]"
   ]
  },
  {
   "cell_type": "code",
   "execution_count": 11,
   "metadata": {},
   "outputs": [],
   "source": [
    "X_train = train_sc[:-1]\n",
    "y_train = train_sc[1:]\n",
    "\n",
    "X_test = test_sc[:-1]\n",
    "y_test = test_sc[1:]"
   ]
  },
  {
   "cell_type": "markdown",
   "metadata": {},
   "source": [
    "### Fully connected predictor"
   ]
  },
  {
   "cell_type": "code",
   "execution_count": 12,
   "metadata": {},
   "outputs": [],
   "source": [
    "from keras.models import Sequential\n",
    "from keras.layers import Dense\n",
    "import keras.backend as K\n",
    "from keras.callbacks import EarlyStopping"
   ]
  },
  {
   "cell_type": "code",
   "execution_count": 13,
   "metadata": {},
   "outputs": [
    {
     "name": "stdout",
     "output_type": "stream",
     "text": [
      "Model: \"sequential\"\n",
      "_________________________________________________________________\n",
      "Layer (type)                 Output Shape              Param #   \n",
      "=================================================================\n",
      "dense (Dense)                (None, 12)                24        \n",
      "_________________________________________________________________\n",
      "dense_1 (Dense)              (None, 1)                 13        \n",
      "=================================================================\n",
      "Total params: 37\n",
      "Trainable params: 37\n",
      "Non-trainable params: 0\n",
      "_________________________________________________________________\n"
     ]
    }
   ],
   "source": [
    "K.clear_session()\n",
    "\n",
    "model = Sequential()\n",
    "model.add(Dense(12, input_dim=1, activation='relu'))\n",
    "model.add(Dense(1))\n",
    "model.compile(loss='mean_squared_error', optimizer='adam')\n",
    "model.summary()"
   ]
  },
  {
   "cell_type": "code",
   "execution_count": 14,
   "metadata": {},
   "outputs": [],
   "source": [
    "early_stop = EarlyStopping(monitor='loss', patience=1, verbose=1)"
   ]
  },
  {
   "cell_type": "code",
   "execution_count": 15,
   "metadata": {
    "scrolled": true
   },
   "outputs": [
    {
     "name": "stdout",
     "output_type": "stream",
     "text": [
      "Epoch 1/200\n",
      "120/120 [==============================] - 0s 2ms/step - loss: 0.0758\n",
      "Epoch 2/200\n",
      "120/120 [==============================] - 0s 2ms/step - loss: 0.0248\n",
      "Epoch 3/200\n",
      "120/120 [==============================] - 0s 2ms/step - loss: 0.0202\n",
      "Epoch 4/200\n",
      "120/120 [==============================] - 0s 2ms/step - loss: 0.0182\n",
      "Epoch 5/200\n",
      "120/120 [==============================] - 0s 2ms/step - loss: 0.0164\n",
      "Epoch 6/200\n",
      "120/120 [==============================] - 0s 2ms/step - loss: 0.0147\n",
      "Epoch 7/200\n",
      "120/120 [==============================] - 0s 2ms/step - loss: 0.0132\n",
      "Epoch 8/200\n",
      "120/120 [==============================] - 0s 2ms/step - loss: 0.0122\n",
      "Epoch 9/200\n",
      "120/120 [==============================] - 0s 2ms/step - loss: 0.0114\n",
      "Epoch 10/200\n",
      "120/120 [==============================] - 0s 2ms/step - loss: 0.0109\n",
      "Epoch 11/200\n",
      "120/120 [==============================] - 0s 2ms/step - loss: 0.0105\n",
      "Epoch 12/200\n",
      "120/120 [==============================] - 0s 2ms/step - loss: 0.0104\n",
      "Epoch 13/200\n",
      "120/120 [==============================] - 0s 2ms/step - loss: 0.0104\n",
      "Epoch 14/200\n",
      "120/120 [==============================] - 0s 2ms/step - loss: 0.0102\n",
      "Epoch 15/200\n",
      "120/120 [==============================] - 0s 2ms/step - loss: 0.0101\n",
      "Epoch 16/200\n",
      "120/120 [==============================] - 0s 2ms/step - loss: 0.0101\n",
      "Epoch 00016: early stopping\n"
     ]
    },
    {
     "data": {
      "text/plain": [
       "<tensorflow.python.keras.callbacks.History at 0x1e94ccd7b88>"
      ]
     },
     "execution_count": 15,
     "metadata": {},
     "output_type": "execute_result"
    }
   ],
   "source": [
    "model.fit(X_train, y_train, epochs=200,\n",
    "          batch_size=2, verbose=1,\n",
    "          callbacks=[early_stop])"
   ]
  },
  {
   "cell_type": "code",
   "execution_count": 16,
   "metadata": {},
   "outputs": [],
   "source": [
    "y_pred = model.predict(X_test)"
   ]
  },
  {
   "cell_type": "code",
   "execution_count": 17,
   "metadata": {},
   "outputs": [
    {
     "data": {
      "image/png": "[encoded data removed]",
      "text/plain": [
       "<Figure size 432x288 with 1 Axes>"
      ]
     },
     "metadata": {
      "needs_background": "light"
     },
     "output_type": "display_data"
    }
   ],
   "source": [
    "plt.plot(y_test)\n",
    "plt.plot(y_pred);"
   ]
  },
  {
   "cell_type": "markdown",
   "metadata": {},
   "source": [
    "### Recurrent predictor"
   ]
  },
  {
   "cell_type": "code",
   "execution_count": 18,
   "metadata": {},
   "outputs": [],
   "source": [
    "from keras.layers import LSTM"
   ]
  },
  {
   "cell_type": "code",
   "execution_count": 19,
   "metadata": {},
   "outputs": [
    {
     "data": {
      "text/plain": [
       "(239, 1)"
      ]
     },
     "execution_count": 19,
     "metadata": {},
     "output_type": "execute_result"
    }
   ],
   "source": [
    "X_train.shape"
   ]
  },
  {
   "cell_type": "code",
   "execution_count": 20,
   "metadata": {},
   "outputs": [
    {
     "data": {
      "text/plain": [
       "(239, 1, 1)"
      ]
     },
     "execution_count": 20,
     "metadata": {},
     "output_type": "execute_result"
    }
   ],
   "source": [
    "#3D tensor with shape (batch_size, timesteps, input_dim)\n",
    "X_train[:, None].shape"
   ]
  },
  {
   "cell_type": "code",
   "execution_count": 21,
   "metadata": {},
   "outputs": [],
   "source": [
    "X_train_t = X_train[:, None]\n",
    "X_test_t = X_test[:, None]"
   ]
  },
  {
   "cell_type": "code",
   "execution_count": 22,
   "metadata": {},
   "outputs": [],
   "source": [
    "K.clear_session()\n",
    "model = Sequential()\n",
    "\n",
    "model.add(LSTM(6, input_shape=(1, 1)))\n",
    "\n",
    "model.add(Dense(1))\n",
    "\n",
    "model.compile(loss='mean_squared_error', optimizer='adam')"
   ]
  },
  {
   "cell_type": "code",
   "execution_count": 23,
   "metadata": {
    "scrolled": true
   },
   "outputs": [
    {
     "name": "stdout",
     "output_type": "stream",
     "text": [
      "Epoch 1/100\n",
      "239/239 [==============================] - 1s 3ms/step - loss: 0.0853\n",
      "Epoch 2/100\n",
      "239/239 [==============================] - 1s 3ms/step - loss: 0.0251\n",
      "Epoch 3/100\n",
      "239/239 [==============================] - 1s 3ms/step - loss: 0.0198\n",
      "Epoch 4/100\n",
      "239/239 [==============================] - 1s 3ms/step - loss: 0.0159\n",
      "Epoch 5/100\n",
      "239/239 [==============================] - 1s 3ms/step - loss: 0.0131\n",
      "Epoch 6/100\n",
      "239/239 [==============================] - 1s 3ms/step - loss: 0.0115\n",
      "Epoch 7/100\n",
      "239/239 [==============================] - 1s 3ms/step - loss: 0.0108\n",
      "Epoch 8/100\n",
      "239/239 [==============================] - 1s 3ms/step - loss: 0.0104\n",
      "Epoch 9/100\n",
      "239/239 [==============================] - 1s 3ms/step - loss: 0.0103\n",
      "Epoch 10/100\n",
      "239/239 [==============================] - 1s 3ms/step - loss: 0.0102\n",
      "Epoch 11/100\n",
      "239/239 [==============================] - 1s 3ms/step - loss: 0.0103\n",
      "Epoch 00011: early stopping\n"
     ]
    },
    {
     "data": {
      "text/plain": [
       "<tensorflow.python.keras.callbacks.History at 0x1ea055f9208>"
      ]
     },
     "execution_count": 23,
     "metadata": {},
     "output_type": "execute_result"
    }
   ],
   "source": [
    "model.fit(X_train_t, y_train,\n",
    "          epochs=100, batch_size=1, verbose=1,\n",
    "          callbacks=[early_stop])"
   ]
  },
  {
   "cell_type": "code",
   "execution_count": 24,
   "metadata": {},
   "outputs": [
    {
     "data": {
      "image/png": "[encoded data removed]",
      "text/plain": [
       "<Figure size 432x288 with 1 Axes>"
      ]
     },
     "metadata": {
      "needs_background": "light"
     },
     "output_type": "display_data"
    }
   ],
   "source": [
    "y_pred = model.predict(X_test_t)\n",
    "plt.plot(y_test)\n",
    "plt.plot(y_pred);"
   ]
  },
  {
   "cell_type": "markdown",
   "metadata": {},
   "source": [
    "## Windows"
   ]
  },
  {
   "cell_type": "code",
   "execution_count": 25,
   "metadata": {},
   "outputs": [
    {
     "data": {
      "text/plain": [
       "(240, 1)"
      ]
     },
     "execution_count": 25,
     "metadata": {},
     "output_type": "execute_result"
    }
   ],
   "source": [
    "train_sc.shape"
   ]
  },
  {
   "cell_type": "code",
   "execution_count": 26,
   "metadata": {},
   "outputs": [
    {
     "data": {
      "text/html": [
       "<div>\n",
       "<style scoped>\n",
       "    .dataframe tbody tr th:only-of-type {\n",
       "        vertical-align: middle;\n",
       "    }\n",
       "\n",
       "    .dataframe tbody tr th {\n",
       "        vertical-align: top;\n",
       "    }\n",
       "\n",
       "    .dataframe thead th {\n",
       "        text-align: right;\n",
       "    }\n",
       "</style>\n",
       "<table border=\"1\" class=\"dataframe\">\n",
       "  <thead>\n",
       "    <tr style=\"text-align: right;\">\n",
       "      <th></th>\n",
       "      <th>Scaled</th>\n",
       "    </tr>\n",
       "    <tr>\n",
       "      <th>Adjustments</th>\n",
       "      <th></th>\n",
       "    </tr>\n",
       "  </thead>\n",
       "  <tbody>\n",
       "    <tr>\n",
       "      <th>1991-01-31</th>\n",
       "      <td>0.014020</td>\n",
       "    </tr>\n",
       "    <tr>\n",
       "      <th>1991-02-28</th>\n",
       "      <td>0.000000</td>\n",
       "    </tr>\n",
       "    <tr>\n",
       "      <th>1991-03-31</th>\n",
       "      <td>0.070426</td>\n",
       "    </tr>\n",
       "    <tr>\n",
       "      <th>1991-04-30</th>\n",
       "      <td>0.095318</td>\n",
       "    </tr>\n",
       "    <tr>\n",
       "      <th>1991-05-31</th>\n",
       "      <td>0.163628</td>\n",
       "    </tr>\n",
       "  </tbody>\n",
       "</table>\n",
       "</div>"
      ],
      "text/plain": [
       "               Scaled\n",
       "Adjustments          \n",
       "1991-01-31   0.014020\n",
       "1991-02-28   0.000000\n",
       "1991-03-31   0.070426\n",
       "1991-04-30   0.095318\n",
       "1991-05-31   0.163628"
      ]
     },
     "execution_count": 26,
     "metadata": {},
     "output_type": "execute_result"
    }
   ],
   "source": [
    "train_sc_df = pd.DataFrame(train_sc, columns=['Scaled'], index=train.index)\n",
    "test_sc_df = pd.DataFrame(test_sc, columns=['Scaled'], index=test.index)\n",
    "train_sc_df.head()"
   ]
  },
  {
   "cell_type": "code",
   "execution_count": 27,
   "metadata": {},
   "outputs": [],
   "source": [
    "for s in range(1, 13):\n",
    "    train_sc_df['shift_{}'.format(s)] = train_sc_df['Scaled'].shift(s)\n",
    "    test_sc_df['shift_{}'.format(s)] = test_sc_df['Scaled'].shift(s)"
   ]
  },
  {
   "cell_type": "code",
   "execution_count": 28,
   "metadata": {},
   "outputs": [
    {
     "data": {
      "text/html": [
       "<div>\n",
       "<style scoped>\n",
       "    .dataframe tbody tr th:only-of-type {\n",
       "        vertical-align: middle;\n",
       "    }\n",
       "\n",
       "    .dataframe tbody tr th {\n",
       "        vertical-align: top;\n",
       "    }\n",
       "\n",
       "    .dataframe thead th {\n",
       "        text-align: right;\n",
       "    }\n",
       "</style>\n",
       "<table border=\"1\" class=\"dataframe\">\n",
       "  <thead>\n",
       "    <tr style=\"text-align: right;\">\n",
       "      <th></th>\n",
       "      <th>Scaled</th>\n",
       "      <th>shift_1</th>\n",
       "      <th>shift_2</th>\n",
       "      <th>shift_3</th>\n",
       "      <th>shift_4</th>\n",
       "      <th>shift_5</th>\n",
       "      <th>shift_6</th>\n",
       "      <th>shift_7</th>\n",
       "      <th>shift_8</th>\n",
       "      <th>shift_9</th>\n",
       "      <th>shift_10</th>\n",
       "      <th>shift_11</th>\n",
       "      <th>shift_12</th>\n",
       "    </tr>\n",
       "    <tr>\n",
       "      <th>Adjustments</th>\n",
       "      <th></th>\n",
       "      <th></th>\n",
       "      <th></th>\n",
       "      <th></th>\n",
       "      <th></th>\n",
       "      <th></th>\n",
       "      <th></th>\n",
       "      <th></th>\n",
       "      <th></th>\n",
       "      <th></th>\n",
       "      <th></th>\n",
       "      <th></th>\n",
       "      <th></th>\n",
       "    </tr>\n",
       "  </thead>\n",
       "  <tbody>\n",
       "    <tr>\n",
       "      <th>1991-01-31</th>\n",
       "      <td>0.014020</td>\n",
       "      <td>NaN</td>\n",
       "      <td>NaN</td>\n",
       "      <td>NaN</td>\n",
       "      <td>NaN</td>\n",
       "      <td>NaN</td>\n",
       "      <td>NaN</td>\n",
       "      <td>NaN</td>\n",
       "      <td>NaN</td>\n",
       "      <td>NaN</td>\n",
       "      <td>NaN</td>\n",
       "      <td>NaN</td>\n",
       "      <td>NaN</td>\n",
       "    </tr>\n",
       "    <tr>\n",
       "      <th>1991-02-28</th>\n",
       "      <td>0.000000</td>\n",
       "      <td>0.014020</td>\n",
       "      <td>NaN</td>\n",
       "      <td>NaN</td>\n",
       "      <td>NaN</td>\n",
       "      <td>NaN</td>\n",
       "      <td>NaN</td>\n",
       "      <td>NaN</td>\n",
       "      <td>NaN</td>\n",
       "      <td>NaN</td>\n",
       "      <td>NaN</td>\n",
       "      <td>NaN</td>\n",
       "      <td>NaN</td>\n",
       "    </tr>\n",
       "    <tr>\n",
       "      <th>1991-03-31</th>\n",
       "      <td>0.070426</td>\n",
       "      <td>0.000000</td>\n",
       "      <td>0.014020</td>\n",
       "      <td>NaN</td>\n",
       "      <td>NaN</td>\n",
       "      <td>NaN</td>\n",
       "      <td>NaN</td>\n",
       "      <td>NaN</td>\n",
       "      <td>NaN</td>\n",
       "      <td>NaN</td>\n",
       "      <td>NaN</td>\n",
       "      <td>NaN</td>\n",
       "      <td>NaN</td>\n",
       "    </tr>\n",
       "    <tr>\n",
       "      <th>1991-04-30</th>\n",
       "      <td>0.095318</td>\n",
       "      <td>0.070426</td>\n",
       "      <td>0.000000</td>\n",
       "      <td>0.014020</td>\n",
       "      <td>NaN</td>\n",
       "      <td>NaN</td>\n",
       "      <td>NaN</td>\n",
       "      <td>NaN</td>\n",
       "      <td>NaN</td>\n",
       "      <td>NaN</td>\n",
       "      <td>NaN</td>\n",
       "      <td>NaN</td>\n",
       "      <td>NaN</td>\n",
       "    </tr>\n",
       "    <tr>\n",
       "      <th>1991-05-31</th>\n",
       "      <td>0.163628</td>\n",
       "      <td>0.095318</td>\n",
       "      <td>0.070426</td>\n",
       "      <td>0.000000</td>\n",
       "      <td>0.014020</td>\n",
       "      <td>NaN</td>\n",
       "      <td>NaN</td>\n",
       "      <td>NaN</td>\n",
       "      <td>NaN</td>\n",
       "      <td>NaN</td>\n",
       "      <td>NaN</td>\n",
       "      <td>NaN</td>\n",
       "      <td>NaN</td>\n",
       "    </tr>\n",
       "    <tr>\n",
       "      <th>1991-06-30</th>\n",
       "      <td>0.135141</td>\n",
       "      <td>0.163628</td>\n",
       "      <td>0.095318</td>\n",
       "      <td>0.070426</td>\n",
       "      <td>0.000000</td>\n",
       "      <td>0.014020</td>\n",
       "      <td>NaN</td>\n",
       "      <td>NaN</td>\n",
       "      <td>NaN</td>\n",
       "      <td>NaN</td>\n",
       "      <td>NaN</td>\n",
       "      <td>NaN</td>\n",
       "      <td>NaN</td>\n",
       "    </tr>\n",
       "    <tr>\n",
       "      <th>1991-07-31</th>\n",
       "      <td>0.123958</td>\n",
       "      <td>0.135141</td>\n",
       "      <td>0.163628</td>\n",
       "      <td>0.095318</td>\n",
       "      <td>0.070426</td>\n",
       "      <td>0.000000</td>\n",
       "      <td>0.014020</td>\n",
       "      <td>NaN</td>\n",
       "      <td>NaN</td>\n",
       "      <td>NaN</td>\n",
       "      <td>NaN</td>\n",
       "      <td>NaN</td>\n",
       "      <td>NaN</td>\n",
       "    </tr>\n",
       "    <tr>\n",
       "      <th>1991-08-31</th>\n",
       "      <td>0.126174</td>\n",
       "      <td>0.123958</td>\n",
       "      <td>0.135141</td>\n",
       "      <td>0.163628</td>\n",
       "      <td>0.095318</td>\n",
       "      <td>0.070426</td>\n",
       "      <td>0.000000</td>\n",
       "      <td>0.014020</td>\n",
       "      <td>NaN</td>\n",
       "      <td>NaN</td>\n",
       "      <td>NaN</td>\n",
       "      <td>NaN</td>\n",
       "      <td>NaN</td>\n",
       "    </tr>\n",
       "    <tr>\n",
       "      <th>1991-09-30</th>\n",
       "      <td>0.092309</td>\n",
       "      <td>0.126174</td>\n",
       "      <td>0.123958</td>\n",
       "      <td>0.135141</td>\n",
       "      <td>0.163628</td>\n",
       "      <td>0.095318</td>\n",
       "      <td>0.070426</td>\n",
       "      <td>0.000000</td>\n",
       "      <td>0.014020</td>\n",
       "      <td>NaN</td>\n",
       "      <td>NaN</td>\n",
       "      <td>NaN</td>\n",
       "      <td>NaN</td>\n",
       "    </tr>\n",
       "    <tr>\n",
       "      <th>1991-10-31</th>\n",
       "      <td>0.111395</td>\n",
       "      <td>0.092309</td>\n",
       "      <td>0.126174</td>\n",
       "      <td>0.123958</td>\n",
       "      <td>0.135141</td>\n",
       "      <td>0.163628</td>\n",
       "      <td>0.095318</td>\n",
       "      <td>0.070426</td>\n",
       "      <td>0.000000</td>\n",
       "      <td>0.014020</td>\n",
       "      <td>NaN</td>\n",
       "      <td>NaN</td>\n",
       "      <td>NaN</td>\n",
       "    </tr>\n",
       "    <tr>\n",
       "      <th>1991-11-30</th>\n",
       "      <td>0.131738</td>\n",
       "      <td>0.111395</td>\n",
       "      <td>0.092309</td>\n",
       "      <td>0.126174</td>\n",
       "      <td>0.123958</td>\n",
       "      <td>0.135141</td>\n",
       "      <td>0.163628</td>\n",
       "      <td>0.095318</td>\n",
       "      <td>0.070426</td>\n",
       "      <td>0.000000</td>\n",
       "      <td>0.014020</td>\n",
       "      <td>NaN</td>\n",
       "      <td>NaN</td>\n",
       "    </tr>\n",
       "    <tr>\n",
       "      <th>1991-12-31</th>\n",
       "      <td>0.200913</td>\n",
       "      <td>0.131738</td>\n",
       "      <td>0.111395</td>\n",
       "      <td>0.092309</td>\n",
       "      <td>0.126174</td>\n",
       "      <td>0.123958</td>\n",
       "      <td>0.135141</td>\n",
       "      <td>0.163628</td>\n",
       "      <td>0.095318</td>\n",
       "      <td>0.070426</td>\n",
       "      <td>0.000000</td>\n",
       "      <td>0.01402</td>\n",
       "      <td>NaN</td>\n",
       "    </tr>\n",
       "    <tr>\n",
       "      <th>1992-01-31</th>\n",
       "      <td>0.030027</td>\n",
       "      <td>0.200913</td>\n",
       "      <td>0.131738</td>\n",
       "      <td>0.111395</td>\n",
       "      <td>0.092309</td>\n",
       "      <td>0.126174</td>\n",
       "      <td>0.123958</td>\n",
       "      <td>0.135141</td>\n",
       "      <td>0.163628</td>\n",
       "      <td>0.095318</td>\n",
       "      <td>0.070426</td>\n",
       "      <td>0.00000</td>\n",
       "      <td>0.01402</td>\n",
       "    </tr>\n",
       "  </tbody>\n",
       "</table>\n",
       "</div>"
      ],
      "text/plain": [
       "               Scaled   shift_1   shift_2   shift_3   shift_4   shift_5  \\\n",
       "Adjustments                                                               \n",
       "1991-01-31   0.014020       NaN       NaN       NaN       NaN       NaN   \n",
       "1991-02-28   0.000000  0.014020       NaN       NaN       NaN       NaN   \n",
       "1991-03-31   0.070426  0.000000  0.014020       NaN       NaN       NaN   \n",
       "1991-04-30   0.095318  0.070426  0.000000  0.014020       NaN       NaN   \n",
       "1991-05-31   0.163628  0.095318  0.070426  0.000000  0.014020       NaN   \n",
       "1991-06-30   0.135141  0.163628  0.095318  0.070426  0.000000  0.014020   \n",
       "1991-07-31   0.123958  0.135141  0.163628  0.095318  0.070426  0.000000   \n",
       "1991-08-31   0.126174  0.123958  0.135141  0.163628  0.095318  0.070426   \n",
       "1991-09-30   0.092309  0.126174  0.123958  0.135141  0.163628  0.095318   \n",
       "1991-10-31   0.111395  0.092309  0.126174  0.123958  0.135141  0.163628   \n",
       "1991-11-30   0.131738  0.111395  0.092309  0.126174  0.123958  0.135141   \n",
       "1991-12-31   0.200913  0.131738  0.111395  0.092309  0.126174  0.123958   \n",
       "1992-01-31   0.030027  0.200913  0.131738  0.111395  0.092309  0.126174   \n",
       "\n",
       "              shift_6   shift_7   shift_8   shift_9  shift_10  shift_11  \\\n",
       "Adjustments                                                               \n",
       "1991-01-31        NaN       NaN       NaN       NaN       NaN       NaN   \n",
       "1991-02-28        NaN       NaN       NaN       NaN       NaN       NaN   \n",
       "1991-03-31        NaN       NaN       NaN       NaN       NaN       NaN   \n",
       "1991-04-30        NaN       NaN       NaN       NaN       NaN       NaN   \n",
       "1991-05-31        NaN       NaN       NaN       NaN       NaN       NaN   \n",
       "1991-06-30        NaN       NaN       NaN       NaN       NaN       NaN   \n",
       "1991-07-31   0.014020       NaN       NaN       NaN       NaN       NaN   \n",
       "1991-08-31   0.000000  0.014020       NaN       NaN       NaN       NaN   \n",
       "1991-09-30   0.070426  0.000000  0.014020       NaN       NaN       NaN   \n",
       "1991-10-31   0.095318  0.070426  0.000000  0.014020       NaN       NaN   \n",
       "1991-11-30   0.163628  0.095318  0.070426  0.000000  0.014020       NaN   \n",
       "1991-12-31   0.135141  0.163628  0.095318  0.070426  0.000000   0.01402   \n",
       "1992-01-31   0.123958  0.135141  0.163628  0.095318  0.070426   0.00000   \n",
       "\n",
       "             shift_12  \n",
       "Adjustments            \n",
       "1991-01-31        NaN  \n",
       "1991-02-28        NaN  \n",
       "1991-03-31        NaN  \n",
       "1991-04-30        NaN  \n",
       "1991-05-31        NaN  \n",
       "1991-06-30        NaN  \n",
       "1991-07-31        NaN  \n",
       "1991-08-31        NaN  \n",
       "1991-09-30        NaN  \n",
       "1991-10-31        NaN  \n",
       "1991-11-30        NaN  \n",
       "1991-12-31        NaN  \n",
       "1992-01-31    0.01402  "
      ]
     },
     "execution_count": 28,
     "metadata": {},
     "output_type": "execute_result"
    }
   ],
   "source": [
    "train_sc_df.head(13)"
   ]
  },
  {
   "cell_type": "code",
   "execution_count": 29,
   "metadata": {},
   "outputs": [],
   "source": [
    "X_train = train_sc_df.dropna().drop('Scaled', axis=1)\n",
    "y_train = train_sc_df.dropna()[['Scaled']]\n",
    "\n",
    "X_test = test_sc_df.dropna().drop('Scaled', axis=1)\n",
    "y_test = test_sc_df.dropna()[['Scaled']]"
   ]
  },
  {
   "cell_type": "code",
   "execution_count": 30,
   "metadata": {},
   "outputs": [
    {
     "data": {
      "text/html": [
       "<div>\n",
       "<style scoped>\n",
       "    .dataframe tbody tr th:only-of-type {\n",
       "        vertical-align: middle;\n",
       "    }\n",
       "\n",
       "    .dataframe tbody tr th {\n",
       "        vertical-align: top;\n",
       "    }\n",
       "\n",
       "    .dataframe thead th {\n",
       "        text-align: right;\n",
       "    }\n",
       "</style>\n",
       "<table border=\"1\" class=\"dataframe\">\n",
       "  <thead>\n",
       "    <tr style=\"text-align: right;\">\n",
       "      <th></th>\n",
       "      <th>shift_1</th>\n",
       "      <th>shift_2</th>\n",
       "      <th>shift_3</th>\n",
       "      <th>shift_4</th>\n",
       "      <th>shift_5</th>\n",
       "      <th>shift_6</th>\n",
       "      <th>shift_7</th>\n",
       "      <th>shift_8</th>\n",
       "      <th>shift_9</th>\n",
       "      <th>shift_10</th>\n",
       "      <th>shift_11</th>\n",
       "      <th>shift_12</th>\n",
       "    </tr>\n",
       "    <tr>\n",
       "      <th>Adjustments</th>\n",
       "      <th></th>\n",
       "      <th></th>\n",
       "      <th></th>\n",
       "      <th></th>\n",
       "      <th></th>\n",
       "      <th></th>\n",
       "      <th></th>\n",
       "      <th></th>\n",
       "      <th></th>\n",
       "      <th></th>\n",
       "      <th></th>\n",
       "      <th></th>\n",
       "    </tr>\n",
       "  </thead>\n",
       "  <tbody>\n",
       "    <tr>\n",
       "      <th>1992-01-31</th>\n",
       "      <td>0.200913</td>\n",
       "      <td>0.131738</td>\n",
       "      <td>0.111395</td>\n",
       "      <td>0.092309</td>\n",
       "      <td>0.126174</td>\n",
       "      <td>0.123958</td>\n",
       "      <td>0.135141</td>\n",
       "      <td>0.163628</td>\n",
       "      <td>0.095318</td>\n",
       "      <td>0.070426</td>\n",
       "      <td>0.000000</td>\n",
       "      <td>0.014020</td>\n",
       "    </tr>\n",
       "    <tr>\n",
       "      <th>1992-02-29</th>\n",
       "      <td>0.030027</td>\n",
       "      <td>0.200913</td>\n",
       "      <td>0.131738</td>\n",
       "      <td>0.111395</td>\n",
       "      <td>0.092309</td>\n",
       "      <td>0.126174</td>\n",
       "      <td>0.123958</td>\n",
       "      <td>0.135141</td>\n",
       "      <td>0.163628</td>\n",
       "      <td>0.095318</td>\n",
       "      <td>0.070426</td>\n",
       "      <td>0.000000</td>\n",
       "    </tr>\n",
       "    <tr>\n",
       "      <th>1992-03-31</th>\n",
       "      <td>0.019993</td>\n",
       "      <td>0.030027</td>\n",
       "      <td>0.200913</td>\n",
       "      <td>0.131738</td>\n",
       "      <td>0.111395</td>\n",
       "      <td>0.092309</td>\n",
       "      <td>0.126174</td>\n",
       "      <td>0.123958</td>\n",
       "      <td>0.135141</td>\n",
       "      <td>0.163628</td>\n",
       "      <td>0.095318</td>\n",
       "      <td>0.070426</td>\n",
       "    </tr>\n",
       "    <tr>\n",
       "      <th>1992-04-30</th>\n",
       "      <td>0.065964</td>\n",
       "      <td>0.019993</td>\n",
       "      <td>0.030027</td>\n",
       "      <td>0.200913</td>\n",
       "      <td>0.131738</td>\n",
       "      <td>0.111395</td>\n",
       "      <td>0.092309</td>\n",
       "      <td>0.126174</td>\n",
       "      <td>0.123958</td>\n",
       "      <td>0.135141</td>\n",
       "      <td>0.163628</td>\n",
       "      <td>0.095318</td>\n",
       "    </tr>\n",
       "    <tr>\n",
       "      <th>1992-05-31</th>\n",
       "      <td>0.109831</td>\n",
       "      <td>0.065964</td>\n",
       "      <td>0.019993</td>\n",
       "      <td>0.030027</td>\n",
       "      <td>0.200913</td>\n",
       "      <td>0.131738</td>\n",
       "      <td>0.111395</td>\n",
       "      <td>0.092309</td>\n",
       "      <td>0.126174</td>\n",
       "      <td>0.123958</td>\n",
       "      <td>0.135141</td>\n",
       "      <td>0.163628</td>\n",
       "    </tr>\n",
       "  </tbody>\n",
       "</table>\n",
       "</div>"
      ],
      "text/plain": [
       "              shift_1   shift_2   shift_3   shift_4   shift_5   shift_6  \\\n",
       "Adjustments                                                               \n",
       "1992-01-31   0.200913  0.131738  0.111395  0.092309  0.126174  0.123958   \n",
       "1992-02-29   0.030027  0.200913  0.131738  0.111395  0.092309  0.126174   \n",
       "1992-03-31   0.019993  0.030027  0.200913  0.131738  0.111395  0.092309   \n",
       "1992-04-30   0.065964  0.019993  0.030027  0.200913  0.131738  0.111395   \n",
       "1992-05-31   0.109831  0.065964  0.019993  0.030027  0.200913  0.131738   \n",
       "\n",
       "              shift_7   shift_8   shift_9  shift_10  shift_11  shift_12  \n",
       "Adjustments                                                              \n",
       "1992-01-31   0.135141  0.163628  0.095318  0.070426  0.000000  0.014020  \n",
       "1992-02-29   0.123958  0.135141  0.163628  0.095318  0.070426  0.000000  \n",
       "1992-03-31   0.126174  0.123958  0.135141  0.163628  0.095318  0.070426  \n",
       "1992-04-30   0.092309  0.126174  0.123958  0.135141  0.163628  0.095318  \n",
       "1992-05-31   0.111395  0.092309  0.126174  0.123958  0.135141  0.163628  "
      ]
     },
     "execution_count": 30,
     "metadata": {},
     "output_type": "execute_result"
    }
   ],
   "source": [
    "X_train.head()"
   ]
  },
  {
   "cell_type": "code",
   "execution_count": 31,
   "metadata": {},
   "outputs": [
    {
     "data": {
      "text/plain": [
       "(228, 12)"
      ]
     },
     "execution_count": 31,
     "metadata": {},
     "output_type": "execute_result"
    }
   ],
   "source": [
    "X_train.shape"
   ]
  },
  {
   "cell_type": "code",
   "execution_count": 32,
   "metadata": {},
   "outputs": [],
   "source": [
    "X_train = X_train.values\n",
    "X_test= X_test.values\n",
    "\n",
    "y_train = y_train.values\n",
    "y_test = y_test.values"
   ]
  },
  {
   "cell_type": "markdown",
   "metadata": {},
   "source": [
    "### Fully Connected on Windows"
   ]
  },
  {
   "cell_type": "code",
   "execution_count": 33,
   "metadata": {},
   "outputs": [
    {
     "name": "stdout",
     "output_type": "stream",
     "text": [
      "Model: \"sequential\"\n",
      "_________________________________________________________________\n",
      "Layer (type)                 Output Shape              Param #   \n",
      "=================================================================\n",
      "dense (Dense)                (None, 12)                156       \n",
      "_________________________________________________________________\n",
      "dense_1 (Dense)              (None, 1)                 13        \n",
      "=================================================================\n",
      "Total params: 169\n",
      "Trainable params: 169\n",
      "Non-trainable params: 0\n",
      "_________________________________________________________________\n"
     ]
    }
   ],
   "source": [
    "K.clear_session()\n",
    "\n",
    "model = Sequential()\n",
    "model.add(Dense(12, input_dim=12, activation='relu'))\n",
    "model.add(Dense(1))\n",
    "model.compile(loss='mean_squared_error', optimizer='adam')\n",
    "model.summary()"
   ]
  },
  {
   "cell_type": "code",
   "execution_count": 34,
   "metadata": {
    "scrolled": true
   },
   "outputs": [
    {
     "name": "stdout",
     "output_type": "stream",
     "text": [
      "Epoch 1/200\n",
      "228/228 [==============================] - 0s 1ms/step - loss: 0.0109\n",
      "Epoch 2/200\n",
      "228/228 [==============================] - 0s 2ms/step - loss: 0.0056\n",
      "Epoch 3/200\n",
      "228/228 [==============================] - 0s 1ms/step - loss: 0.0041\n",
      "Epoch 4/200\n",
      "228/228 [==============================] - 0s 2ms/step - loss: 0.0035\n",
      "Epoch 5/200\n",
      "228/228 [==============================] - 0s 1ms/step - loss: 0.0032\n",
      "Epoch 6/200\n",
      "228/228 [==============================] - 0s 1ms/step - loss: 0.0027\n",
      "Epoch 7/200\n",
      "228/228 [==============================] - 0s 1ms/step - loss: 0.0027\n",
      "Epoch 00007: early stopping\n"
     ]
    },
    {
     "data": {
      "text/plain": [
       "<tensorflow.python.keras.callbacks.History at 0x1ea0ed0fd88>"
      ]
     },
     "execution_count": 34,
     "metadata": {},
     "output_type": "execute_result"
    }
   ],
   "source": [
    "model.fit(X_train, y_train, epochs=200,\n",
    "          batch_size=1, verbose=1, callbacks=[early_stop])"
   ]
  },
  {
   "cell_type": "code",
   "execution_count": 35,
   "metadata": {},
   "outputs": [
    {
     "data": {
      "image/png": "[encoded data removed]",
      "text/plain": [
       "<Figure size 432x288 with 1 Axes>"
      ]
     },
     "metadata": {
      "needs_background": "light"
     },
     "output_type": "display_data"
    }
   ],
   "source": [
    "y_pred = model.predict(X_test)\n",
    "plt.plot(y_test)\n",
    "plt.plot(y_pred);"
   ]
  },
  {
   "cell_type": "markdown",
   "metadata": {},
   "source": [
    "### LSTM on Windows"
   ]
  },
  {
   "cell_type": "code",
   "execution_count": 36,
   "metadata": {},
   "outputs": [],
   "source": [
    "X_train_t = X_train.reshape(X_train.shape[0], 1, 12)\n",
    "X_test_t = X_test.reshape(X_test.shape[0], 1, 12)"
   ]
  },
  {
   "cell_type": "code",
   "execution_count": 37,
   "metadata": {},
   "outputs": [
    {
     "data": {
      "text/plain": [
       "(228, 1, 12)"
      ]
     },
     "execution_count": 37,
     "metadata": {},
     "output_type": "execute_result"
    }
   ],
   "source": [
    "X_train_t.shape"
   ]
  },
  {
   "cell_type": "code",
   "execution_count": 38,
   "metadata": {},
   "outputs": [],
   "source": [
    "K.clear_session()\n",
    "model = Sequential()\n",
    "\n",
    "model.add(LSTM(6, input_shape=(1, 12)))\n",
    "\n",
    "model.add(Dense(1))\n",
    "\n",
    "model.compile(loss='mean_squared_error', optimizer='adam')"
   ]
  },
  {
   "cell_type": "code",
   "execution_count": 39,
   "metadata": {},
   "outputs": [
    {
     "name": "stdout",
     "output_type": "stream",
     "text": [
      "Model: \"sequential\"\n",
      "_________________________________________________________________\n",
      "Layer (type)                 Output Shape              Param #   \n",
      "=================================================================\n",
      "lstm (LSTM)                  (None, 6)                 456       \n",
      "_________________________________________________________________\n",
      "dense (Dense)                (None, 1)                 7         \n",
      "=================================================================\n",
      "Total params: 463\n",
      "Trainable params: 463\n",
      "Non-trainable params: 0\n",
      "_________________________________________________________________\n"
     ]
    }
   ],
   "source": [
    "model.summary()"
   ]
  },
  {
   "cell_type": "code",
   "execution_count": 40,
   "metadata": {
    "scrolled": true
   },
   "outputs": [
    {
     "name": "stdout",
     "output_type": "stream",
     "text": [
      "Epoch 1/100\n",
      "228/228 [==============================] - 1s 3ms/step - loss: 0.0860\n",
      "Epoch 2/100\n",
      "228/228 [==============================] - 1s 3ms/step - loss: 0.0109\n",
      "Epoch 3/100\n",
      "228/228 [==============================] - 1s 3ms/step - loss: 0.0090\n",
      "Epoch 4/100\n",
      "228/228 [==============================] - 1s 3ms/step - loss: 0.0079\n",
      "Epoch 5/100\n",
      "228/228 [==============================] - ETA: 0s - loss: 0.007 - 1s 3ms/step - loss: 0.0074\n",
      "Epoch 6/100\n",
      "228/228 [==============================] - 1s 3ms/step - loss: 0.0066\n",
      "Epoch 7/100\n",
      "228/228 [==============================] - 1s 3ms/step - loss: 0.0060\n",
      "Epoch 8/100\n",
      "228/228 [==============================] - 1s 3ms/step - loss: 0.0056\n",
      "Epoch 9/100\n",
      "228/228 [==============================] - 1s 3ms/step - loss: 0.0049\n",
      "Epoch 10/100\n",
      "228/228 [==============================] - 1s 3ms/step - loss: 0.0044\n",
      "Epoch 11/100\n",
      "228/228 [==============================] - 1s 3ms/step - loss: 0.0042\n",
      "Epoch 12/100\n",
      "228/228 [==============================] - 1s 3ms/step - loss: 0.0036\n",
      "Epoch 13/100\n",
      "228/228 [==============================] - 1s 3ms/step - loss: 0.0034\n",
      "Epoch 14/100\n",
      "228/228 [==============================] - 1s 3ms/step - loss: 0.0029\n",
      "Epoch 15/100\n",
      "228/228 [==============================] - 1s 3ms/step - loss: 0.0026\n",
      "Epoch 16/100\n",
      "228/228 [==============================] - 1s 3ms/step - loss: 0.0024\n",
      "Epoch 17/100\n",
      "228/228 [==============================] - 1s 3ms/step - loss: 0.0021\n",
      "Epoch 18/100\n",
      "228/228 [==============================] - 1s 3ms/step - loss: 0.0019\n",
      "Epoch 19/100\n",
      "228/228 [==============================] - 1s 3ms/step - loss: 0.0019\n",
      "Epoch 20/100\n",
      "228/228 [==============================] - 1s 3ms/step - loss: 0.0017\n",
      "Epoch 21/100\n",
      "228/228 [==============================] - 1s 3ms/step - loss: 0.0017\n",
      "Epoch 22/100\n",
      "228/228 [==============================] - 1s 3ms/step - loss: 0.0015\n",
      "Epoch 23/100\n",
      "228/228 [==============================] - 1s 3ms/step - loss: 0.0015\n",
      "Epoch 24/100\n",
      "228/228 [==============================] - 1s 3ms/step - loss: 0.0013\n",
      "Epoch 25/100\n",
      "228/228 [==============================] - 1s 3ms/step - loss: 0.0014\n",
      "Epoch 00025: early stopping\n"
     ]
    },
    {
     "data": {
      "text/plain": [
       "<tensorflow.python.keras.callbacks.History at 0x1ea0caabc88>"
      ]
     },
     "execution_count": 40,
     "metadata": {},
     "output_type": "execute_result"
    }
   ],
   "source": [
    "model.fit(X_train_t, y_train, epochs=100,\n",
    "          batch_size=1, verbose=1, callbacks=[early_stop])"
   ]
  },
  {
   "cell_type": "code",
   "execution_count": 41,
   "metadata": {},
   "outputs": [
    {
     "data": {
      "image/png": "[encoded data removed]",
      "text/plain": [
       "<Figure size 432x288 with 1 Axes>"
      ]
     },
     "metadata": {
      "needs_background": "light"
     },
     "output_type": "display_data"
    }
   ],
   "source": [
    "y_pred = model.predict(X_test_t)\n",
    "plt.plot(y_test)\n",
    "plt.plot(y_pred);"
   ]
  },
  {
   "cell_type": "markdown",
   "metadata": {},
   "source": [
    "## Exercise 1\n",
    "\n",
    "In the model above we reshaped the input shape to: `(num_samples, 1, 12)`, i.e. we treated a window of 12 months as a vector of 12 coordinates that we simultaneously passed to all the LSTM nodes. An alternative way to look at the problem is to reshape the input to `(num_samples, 12, 1)`. This means we consider each input window as a sequence of 12 values that we will pass in sequence to the LSTM. In principle this looks like a more accurate description of our situation. But does it yield better predictions? Let's check it.\n",
    "\n",
    "- Reshape `X_train` and `X_test` so that they represent a set of univariate sequences\n",
    "- retrain the same LSTM(6) model, you'll have to adapt the `input_shape`\n",
    "- check the performance of this new model, is it better at predicting the test data?"
   ]
  },
  {
   "cell_type": "code",
   "execution_count": 42,
   "metadata": {},
   "outputs": [],
   "source": [
    "X_train_t = X_train.reshape(X_train.shape[0], 12, 1)\n",
    "X_test_t = X_test.reshape(X_test.shape[0], 12, 1)"
   ]
  },
  {
   "cell_type": "code",
   "execution_count": 43,
   "metadata": {},
   "outputs": [
    {
     "data": {
      "text/plain": [
       "(228, 12, 1)"
      ]
     },
     "execution_count": 43,
     "metadata": {},
     "output_type": "execute_result"
    }
   ],
   "source": [
    "X_train_t.shape"
   ]
  },
  {
   "cell_type": "code",
   "execution_count": 44,
   "metadata": {},
   "outputs": [],
   "source": [
    "K.clear_session()\n",
    "model = Sequential()\n",
    "\n",
    "model.add(LSTM(6, input_shape=(12, 1)))\n",
    "\n",
    "model.add(Dense(1))\n",
    "\n",
    "model.compile(loss='mean_squared_error', optimizer='adam')"
   ]
  },
  {
   "cell_type": "code",
   "execution_count": 45,
   "metadata": {},
   "outputs": [
    {
     "name": "stdout",
     "output_type": "stream",
     "text": [
      "Model: \"sequential\"\n",
      "_________________________________________________________________\n",
      "Layer (type)                 Output Shape              Param #   \n",
      "=================================================================\n",
      "lstm (LSTM)                  (None, 6)                 192       \n",
      "_________________________________________________________________\n",
      "dense (Dense)                (None, 1)                 7         \n",
      "=================================================================\n",
      "Total params: 199\n",
      "Trainable params: 199\n",
      "Non-trainable params: 0\n",
      "_________________________________________________________________\n"
     ]
    }
   ],
   "source": [
    "model.summary()"
   ]
  },
  {
   "cell_type": "code",
   "execution_count": 46,
   "metadata": {},
   "outputs": [],
   "source": [
    "early_stop = EarlyStopping(monitor='loss', patience=1, verbose=1)"
   ]
  },
  {
   "cell_type": "code",
   "execution_count": 47,
   "metadata": {},
   "outputs": [
    {
     "data": {
      "text/plain": [
       "<tensorflow.python.keras.callbacks.History at 0x1ea29d715c8>"
      ]
     },
     "execution_count": 47,
     "metadata": {},
     "output_type": "execute_result"
    }
   ],
   "source": [
    "model.fit(X_train_t, y_train, epochs=600,\n",
    "          batch_size=32, verbose=0)"
   ]
  },
  {
   "cell_type": "code",
   "execution_count": 48,
   "metadata": {},
   "outputs": [
    {
     "data": {
      "image/png": "[encoded data removed]",
      "text/plain": [
       "<Figure size 432x288 with 1 Axes>"
      ]
     },
     "metadata": {
      "needs_background": "light"
     },
     "output_type": "display_data"
    }
   ],
   "source": [
    "y_pred = model.predict(X_test_t)\n",
    "plt.plot(y_test)\n",
    "plt.plot(y_pred);"
   ]
  },
  {
   "cell_type": "markdown",
   "metadata": {
    "collapsed": true
   },
   "source": [
    "## Exercise 2\n",
    "\n",
    "RNN models can be applied to images too. In general we can apply them to any data where there's a connnection between nearby units. Let's see how we can easily build a model that works with images.\n",
    "\n",
    "- Load the MNIST data, by now you should be able to do it blindfolded :)\n",
    "- reshape it so that an image looks like a long sequence of pixels\n",
    "- create a recurrent model and train it on the training data\n",
    "- how does it perform compared to a fully connected? How does it compare to Convolutional Neural Networks?\n",
    "\n",
    "(feel free to run this exercise on a cloud GPU if it's too slow on your laptop)"
   ]
  },
  {
   "cell_type": "code",
   "execution_count": 49,
   "metadata": {},
   "outputs": [],
   "source": [
    "from keras.datasets import mnist\n",
    "from keras.utils import to_categorical"
   ]
  },
  {
   "cell_type": "code",
   "execution_count": 50,
   "metadata": {},
   "outputs": [],
   "source": [
    "(X_train, y_train), (X_test, y_test) = mnist.load_data()\n",
    "X_train = X_train.astype('float32') / 255.0\n",
    "X_test = X_test.astype('float32') / 255.0\n",
    "y_train_cat = to_categorical(y_train, 10)\n",
    "y_test_cat = to_categorical(y_test, 10)"
   ]
  },
  {
   "cell_type": "code",
   "execution_count": 51,
   "metadata": {},
   "outputs": [],
   "source": [
    "X_train = X_train.reshape(X_train.shape[0], -1, 1)\n",
    "X_test = X_test.reshape(X_test.shape[0], -1, 1)"
   ]
  },
  {
   "cell_type": "code",
   "execution_count": 52,
   "metadata": {},
   "outputs": [
    {
     "name": "stdout",
     "output_type": "stream",
     "text": [
      "(60000, 784, 1)\n",
      "(10000, 784, 1)\n",
      "(60000, 10)\n",
      "(10000, 10)\n"
     ]
    }
   ],
   "source": [
    "print(X_train.shape)\n",
    "print(X_test.shape)\n",
    "print(y_train_cat.shape)\n",
    "print(y_test_cat.shape)"
   ]
  },
  {
   "cell_type": "code",
   "execution_count": 53,
   "metadata": {
    "scrolled": true
   },
   "outputs": [
    {
     "name": "stdout",
     "output_type": "stream",
     "text": [
      "Epoch 1/100\n",
      "1313/1313 - 54s - loss: 2.0257 - accuracy: 0.2361 - val_loss: 1.8606 - val_accuracy: 0.2817\n",
      "Epoch 2/100\n",
      "1313/1313 - 53s - loss: 1.7058 - accuracy: 0.3577 - val_loss: 2.1295 - val_accuracy: 0.1486\n",
      "Epoch 3/100\n",
      "1313/1313 - 54s - loss: 1.8158 - accuracy: 0.3146 - val_loss: 1.5087 - val_accuracy: 0.4108\n",
      "Epoch 4/100\n",
      "1313/1313 - 54s - loss: 1.9230 - accuracy: 0.2896 - val_loss: 1.7339 - val_accuracy: 0.3013\n",
      "Epoch 5/100\n",
      "1313/1313 - 54s - loss: 1.5863 - accuracy: 0.3914 - val_loss: 2.0395 - val_accuracy: 0.2972\n",
      "Epoch 6/100\n",
      "1313/1313 - 53s - loss: 1.5227 - accuracy: 0.4088 - val_loss: 1.3451 - val_accuracy: 0.4582\n",
      "Epoch 7/100\n",
      "1313/1313 - 54s - loss: 1.3965 - accuracy: 0.4477 - val_loss: 1.4491 - val_accuracy: 0.4357\n",
      "Epoch 8/100\n",
      "1313/1313 - 53s - loss: 1.3851 - accuracy: 0.4585 - val_loss: 1.3294 - val_accuracy: 0.4723\n",
      "Epoch 9/100\n",
      "1313/1313 - 53s - loss: 1.3517 - accuracy: 0.4789 - val_loss: 1.4139 - val_accuracy: 0.4566\n",
      "Epoch 10/100\n",
      "1313/1313 - 54s - loss: 1.3391 - accuracy: 0.4860 - val_loss: 1.3328 - val_accuracy: 0.4747\n",
      "Epoch 11/100\n",
      "1313/1313 - 54s - loss: 1.3189 - accuracy: 0.4918 - val_loss: 1.2449 - val_accuracy: 0.5225\n",
      "Epoch 12/100\n",
      "1313/1313 - 54s - loss: 1.2927 - accuracy: 0.5078 - val_loss: 1.4027 - val_accuracy: 0.4684\n",
      "Epoch 13/100\n",
      "1313/1313 - 54s - loss: 1.2441 - accuracy: 0.5434 - val_loss: 1.2222 - val_accuracy: 0.5411\n",
      "Epoch 14/100\n",
      "1313/1313 - 54s - loss: 1.2553 - accuracy: 0.5246 - val_loss: 1.2137 - val_accuracy: 0.5419\n",
      "Epoch 15/100\n",
      "1313/1313 - 53s - loss: 1.2438 - accuracy: 0.5277 - val_loss: 1.2072 - val_accuracy: 0.5460\n",
      "Epoch 16/100\n",
      "1313/1313 - 53s - loss: 1.2656 - accuracy: 0.5371 - val_loss: 1.3392 - val_accuracy: 0.4632\n",
      "Epoch 17/100\n",
      "1313/1313 - 54s - loss: 1.2255 - accuracy: 0.5453 - val_loss: 1.1323 - val_accuracy: 0.5763\n",
      "Epoch 18/100\n",
      "1313/1313 - 54s - loss: 1.3004 - accuracy: 0.5246 - val_loss: 1.2348 - val_accuracy: 0.5248\n",
      "Epoch 19/100\n",
      "1313/1313 - 54s - loss: 1.2869 - accuracy: 0.5356 - val_loss: 1.9457 - val_accuracy: 0.3651\n",
      "Epoch 20/100\n",
      "1313/1313 - 56s - loss: 1.2971 - accuracy: 0.5333 - val_loss: 1.0886 - val_accuracy: 0.5925\n",
      "Epoch 21/100\n",
      "1313/1313 - 183s - loss: 1.2615 - accuracy: 0.5437 - val_loss: 1.1522 - val_accuracy: 0.5879\n",
      "Epoch 22/100\n",
      "1313/1313 - 57s - loss: 1.2258 - accuracy: 0.5619 - val_loss: 1.1416 - val_accuracy: 0.5845\n",
      "Epoch 23/100\n",
      "1313/1313 - 53s - loss: 1.1334 - accuracy: 0.5955 - val_loss: 1.1624 - val_accuracy: 0.5733\n",
      "Epoch 24/100\n",
      "1313/1313 - 64s - loss: 1.1033 - accuracy: 0.6085 - val_loss: 1.0981 - val_accuracy: 0.5892\n",
      "Epoch 25/100\n",
      "1313/1313 - 71s - loss: 1.0695 - accuracy: 0.6218 - val_loss: 0.9792 - val_accuracy: 0.6589\n",
      "Epoch 26/100\n",
      "1313/1313 - 71s - loss: 1.0324 - accuracy: 0.6383 - val_loss: 1.0338 - val_accuracy: 0.6237\n",
      "Epoch 27/100\n",
      "1313/1313 - 70s - loss: 1.0472 - accuracy: 0.6358 - val_loss: 1.0015 - val_accuracy: 0.6368\n",
      "Epoch 28/100\n",
      "1313/1313 - 68s - loss: 1.0403 - accuracy: 0.6375 - val_loss: 1.0710 - val_accuracy: 0.6174\n",
      "Epoch 29/100\n",
      "1313/1313 - 64s - loss: 1.1291 - accuracy: 0.6122 - val_loss: 0.9861 - val_accuracy: 0.6751\n",
      "Epoch 30/100\n",
      "1313/1313 - 64s - loss: 1.1782 - accuracy: 0.6071 - val_loss: 1.0056 - val_accuracy: 0.6716\n",
      "Epoch 31/100\n",
      "1313/1313 - 71s - loss: 0.9708 - accuracy: 0.6716 - val_loss: 1.0333 - val_accuracy: 0.6318\n",
      "Epoch 32/100\n",
      "1313/1313 - 71s - loss: 0.9537 - accuracy: 0.6736 - val_loss: 0.9018 - val_accuracy: 0.6987\n",
      "Epoch 33/100\n",
      "1313/1313 - 71s - loss: 0.9167 - accuracy: 0.6880 - val_loss: 0.8323 - val_accuracy: 0.7145\n",
      "Epoch 34/100\n",
      "1313/1313 - 70s - loss: 0.9429 - accuracy: 0.6820 - val_loss: 1.0855 - val_accuracy: 0.6400\n",
      "Epoch 35/100\n",
      "1313/1313 - 71s - loss: 0.9763 - accuracy: 0.6613 - val_loss: 0.9124 - val_accuracy: 0.6833\n",
      "Epoch 36/100\n",
      "1313/1313 - 70s - loss: 0.8889 - accuracy: 0.7011 - val_loss: 0.8230 - val_accuracy: 0.7257\n",
      "Epoch 37/100\n",
      "1313/1313 - 73s - loss: 0.9621 - accuracy: 0.6760 - val_loss: 0.7628 - val_accuracy: 0.7434\n",
      "Epoch 38/100\n",
      "1313/1313 - 71s - loss: 0.8226 - accuracy: 0.7286 - val_loss: 0.8403 - val_accuracy: 0.7192\n",
      "Epoch 39/100\n",
      "1313/1313 - 70s - loss: 0.7566 - accuracy: 0.7481 - val_loss: 0.6864 - val_accuracy: 0.7735\n",
      "Epoch 40/100\n",
      "1313/1313 - 70s - loss: 0.6956 - accuracy: 0.7709 - val_loss: 0.6198 - val_accuracy: 0.7924\n",
      "Epoch 41/100\n",
      "1313/1313 - 68s - loss: 0.6588 - accuracy: 0.7827 - val_loss: 0.6288 - val_accuracy: 0.7975\n",
      "Epoch 42/100\n",
      "1313/1313 - 70s - loss: 0.6469 - accuracy: 0.7853 - val_loss: 0.7888 - val_accuracy: 0.7467\n",
      "Epoch 43/100\n",
      "1313/1313 - 81s - loss: 0.5832 - accuracy: 0.8031 - val_loss: 0.5505 - val_accuracy: 0.8174\n",
      "Epoch 44/100\n",
      "1313/1313 - 68s - loss: 0.5559 - accuracy: 0.8123 - val_loss: 0.5085 - val_accuracy: 0.8227\n",
      "Epoch 45/100\n",
      "1313/1313 - 69s - loss: 0.5337 - accuracy: 0.8185 - val_loss: 0.7619 - val_accuracy: 0.7411\n",
      "Epoch 46/100\n",
      "1313/1313 - 69s - loss: 0.5097 - accuracy: 0.8238 - val_loss: 0.5005 - val_accuracy: 0.8249\n",
      "Epoch 47/100\n",
      "1313/1313 - 69s - loss: 0.4921 - accuracy: 0.8290 - val_loss: 0.4582 - val_accuracy: 0.8360\n",
      "Epoch 48/100\n",
      "1313/1313 - 68s - loss: 0.4824 - accuracy: 0.8318 - val_loss: 0.4613 - val_accuracy: 0.8377\n",
      "Epoch 49/100\n",
      "1313/1313 - 72s - loss: 0.4599 - accuracy: 0.8380 - val_loss: 0.4716 - val_accuracy: 0.8332\n",
      "Epoch 50/100\n",
      "1313/1313 - 68s - loss: 0.4667 - accuracy: 0.8370 - val_loss: 0.4490 - val_accuracy: 0.8373\n",
      "Epoch 51/100\n",
      "1313/1313 - 68s - loss: 0.4572 - accuracy: 0.8388 - val_loss: 0.4315 - val_accuracy: 0.8446\n",
      "Epoch 52/100\n",
      "1313/1313 - 69s - loss: 0.4576 - accuracy: 0.8376 - val_loss: 0.4469 - val_accuracy: 0.8494\n",
      "Epoch 53/100\n",
      "1313/1313 - 69s - loss: 0.4571 - accuracy: 0.8381 - val_loss: 0.4096 - val_accuracy: 0.8531\n",
      "Epoch 54/100\n",
      "1313/1313 - 76s - loss: 0.4163 - accuracy: 0.8502 - val_loss: 0.4036 - val_accuracy: 0.8502\n",
      "Epoch 55/100\n",
      "1313/1313 - 53s - loss: 0.4022 - accuracy: 0.8538 - val_loss: 0.3945 - val_accuracy: 0.8559\n",
      "Epoch 56/100\n",
      "1313/1313 - 54s - loss: 0.4040 - accuracy: 0.8530 - val_loss: 0.4231 - val_accuracy: 0.8477\n",
      "Epoch 57/100\n",
      "1313/1313 - 55s - loss: 0.3929 - accuracy: 0.8578 - val_loss: 0.4722 - val_accuracy: 0.8261\n",
      "Epoch 58/100\n",
      "1313/1313 - 53s - loss: 0.3793 - accuracy: 0.8605 - val_loss: 0.3594 - val_accuracy: 0.8623\n",
      "Epoch 59/100\n",
      "1313/1313 - 55s - loss: 0.3679 - accuracy: 0.8619 - val_loss: 0.3687 - val_accuracy: 0.8628\n",
      "Epoch 60/100\n",
      "1313/1313 - 54s - loss: 0.3601 - accuracy: 0.8655 - val_loss: 0.3555 - val_accuracy: 0.8646\n",
      "Epoch 61/100\n",
      "1313/1313 - 54s - loss: 0.3544 - accuracy: 0.8664 - val_loss: 0.5318 - val_accuracy: 0.8169\n",
      "Epoch 62/100\n",
      "1313/1313 - 53s - loss: 0.3548 - accuracy: 0.8658 - val_loss: 0.3320 - val_accuracy: 0.8717\n",
      "Epoch 63/100\n",
      "1313/1313 - 57s - loss: 0.3393 - accuracy: 0.8694 - val_loss: 0.3191 - val_accuracy: 0.8747\n",
      "Epoch 64/100\n",
      "1313/1313 - 53s - loss: 0.3358 - accuracy: 0.8718 - val_loss: 0.3771 - val_accuracy: 0.8576\n",
      "Epoch 65/100\n",
      "1313/1313 - 53s - loss: 0.3271 - accuracy: 0.8737 - val_loss: 0.3219 - val_accuracy: 0.8728\n",
      "Epoch 66/100\n",
      "1313/1313 - 54s - loss: 0.3254 - accuracy: 0.8741 - val_loss: 0.3133 - val_accuracy: 0.8772\n",
      "Epoch 67/100\n",
      "1313/1313 - 54s - loss: 0.3168 - accuracy: 0.8781 - val_loss: 0.3149 - val_accuracy: 0.8780\n",
      "Epoch 68/100\n",
      "1313/1313 - 54s - loss: 0.3135 - accuracy: 0.8779 - val_loss: 0.3006 - val_accuracy: 0.8797\n",
      "Epoch 69/100\n",
      "1313/1313 - 54s - loss: 0.3091 - accuracy: 0.8791 - val_loss: 0.3162 - val_accuracy: 0.8787\n",
      "Epoch 70/100\n",
      "1313/1313 - 55s - loss: 0.3040 - accuracy: 0.8819 - val_loss: 0.2783 - val_accuracy: 0.8903\n",
      "Epoch 71/100\n",
      "1313/1313 - 53s - loss: 0.2992 - accuracy: 0.8835 - val_loss: 0.3275 - val_accuracy: 0.8732\n",
      "Epoch 72/100\n",
      "1313/1313 - 53s - loss: 0.2908 - accuracy: 0.8892 - val_loss: 0.2872 - val_accuracy: 0.8911\n",
      "Epoch 73/100\n",
      "1313/1313 - 54s - loss: 0.2809 - accuracy: 0.8995 - val_loss: 0.2683 - val_accuracy: 0.9078\n",
      "Epoch 74/100\n",
      "1313/1313 - 54s - loss: 0.2609 - accuracy: 0.9130 - val_loss: 0.2451 - val_accuracy: 0.9146\n",
      "Epoch 75/100\n",
      "1313/1313 - 54s - loss: 0.2474 - accuracy: 0.9210 - val_loss: 0.2554 - val_accuracy: 0.9173\n",
      "Epoch 76/100\n",
      "1313/1313 - 53s - loss: 0.2414 - accuracy: 0.9239 - val_loss: 0.2276 - val_accuracy: 0.9265\n",
      "Epoch 77/100\n",
      "1313/1313 - 54s - loss: 0.2280 - accuracy: 0.9290 - val_loss: 0.2295 - val_accuracy: 0.9289\n",
      "Epoch 78/100\n",
      "1313/1313 - 54s - loss: 0.2154 - accuracy: 0.9342 - val_loss: 0.2751 - val_accuracy: 0.9132\n",
      "Epoch 79/100\n"
     ]
    },
    {
     "name": "stdout",
     "output_type": "stream",
     "text": [
      "1313/1313 - 53s - loss: 0.2087 - accuracy: 0.9374 - val_loss: 0.2201 - val_accuracy: 0.9374\n",
      "Epoch 80/100\n",
      "1313/1313 - 54s - loss: 0.2011 - accuracy: 0.9387 - val_loss: 0.1867 - val_accuracy: 0.9456\n",
      "Epoch 81/100\n",
      "1313/1313 - 53s - loss: 0.1997 - accuracy: 0.9401 - val_loss: 0.1762 - val_accuracy: 0.9489\n",
      "Epoch 82/100\n",
      "1313/1313 - 54s - loss: 0.1913 - accuracy: 0.9430 - val_loss: 0.1769 - val_accuracy: 0.9480\n",
      "Epoch 83/100\n",
      "1313/1313 - 53s - loss: 0.1862 - accuracy: 0.9437 - val_loss: 0.1985 - val_accuracy: 0.9416\n",
      "Epoch 84/100\n",
      "1313/1313 - 54s - loss: 0.1807 - accuracy: 0.9462 - val_loss: 0.1989 - val_accuracy: 0.9393\n",
      "Epoch 85/100\n",
      "1313/1313 - 53s - loss: 0.1745 - accuracy: 0.9480 - val_loss: 0.1870 - val_accuracy: 0.9423\n",
      "Epoch 86/100\n",
      "1313/1313 - 53s - loss: 0.1720 - accuracy: 0.9482 - val_loss: 0.1819 - val_accuracy: 0.9440\n",
      "Epoch 87/100\n",
      "1313/1313 - 54s - loss: 0.1645 - accuracy: 0.9509 - val_loss: 0.2095 - val_accuracy: 0.9386\n",
      "Epoch 88/100\n",
      "1313/1313 - 54s - loss: 0.1569 - accuracy: 0.9537 - val_loss: 0.1821 - val_accuracy: 0.9491\n",
      "Epoch 89/100\n",
      "1313/1313 - 55s - loss: 0.1540 - accuracy: 0.9558 - val_loss: 0.1890 - val_accuracy: 0.9469\n",
      "Epoch 90/100\n",
      "1313/1313 - 53s - loss: 0.1502 - accuracy: 0.9562 - val_loss: 0.1400 - val_accuracy: 0.9615\n",
      "Epoch 91/100\n",
      "1313/1313 - 54s - loss: 0.1475 - accuracy: 0.9584 - val_loss: 0.1705 - val_accuracy: 0.9536\n",
      "Epoch 92/100\n",
      "1313/1313 - 53s - loss: 0.1438 - accuracy: 0.9577 - val_loss: 0.1531 - val_accuracy: 0.9585\n",
      "Epoch 93/100\n",
      "1313/1313 - 53s - loss: 0.1400 - accuracy: 0.9600 - val_loss: 0.1507 - val_accuracy: 0.9574\n",
      "Epoch 94/100\n",
      "1313/1313 - 54s - loss: 0.1365 - accuracy: 0.9612 - val_loss: 0.1537 - val_accuracy: 0.9579\n",
      "Epoch 95/100\n",
      "1313/1313 - 54s - loss: 0.1326 - accuracy: 0.9615 - val_loss: 0.1211 - val_accuracy: 0.9663\n",
      "Epoch 96/100\n",
      "1313/1313 - 54s - loss: 0.1304 - accuracy: 0.9628 - val_loss: 0.1488 - val_accuracy: 0.9597\n",
      "Epoch 97/100\n",
      "1313/1313 - 54s - loss: 0.1292 - accuracy: 0.9637 - val_loss: 0.1430 - val_accuracy: 0.9611\n",
      "Epoch 98/100\n",
      "1313/1313 - 54s - loss: 0.1258 - accuracy: 0.9643 - val_loss: 0.1290 - val_accuracy: 0.9624\n",
      "Epoch 99/100\n",
      "1313/1313 - 53s - loss: 0.1212 - accuracy: 0.9647 - val_loss: 0.1620 - val_accuracy: 0.9549\n",
      "Epoch 100/100\n",
      "1313/1313 - 53s - loss: 0.1208 - accuracy: 0.9652 - val_loss: 0.1290 - val_accuracy: 0.9628\n",
      "313/313 [==============================] - 5s 16ms/step - loss: 0.1329 - accuracy: 0.9619\n"
     ]
    },
    {
     "data": {
      "text/plain": [
       "[0.13293200731277466, 0.961899995803833]"
      ]
     },
     "execution_count": 53,
     "metadata": {},
     "output_type": "execute_result"
    }
   ],
   "source": [
    "# define the model\n",
    "K.clear_session()\n",
    "model = Sequential()\n",
    "model.add(LSTM(32, input_shape=X_train.shape[1:]))\n",
    "model.add(Dense(10, activation='softmax'))\n",
    "\n",
    "# compile the model\n",
    "model.compile(loss='categorical_crossentropy',\n",
    "              optimizer='rmsprop',\n",
    "              metrics=['accuracy'])\n",
    "\n",
    "model.fit(X_train, y_train_cat,\n",
    "          batch_size=32,\n",
    "          epochs=100,\n",
    "          validation_split=0.3,\n",
    "          shuffle=True,\n",
    "          verbose=2,\n",
    "          )\n",
    "\n",
    "model.evaluate(X_test, y_test_cat)"
   ]
  }
 ],
 "metadata": {
  "kernelspec": {
   "display_name": "Python 3",
   "language": "python",
   "name": "python3"
  },
  "language_info": {
   "codemirror_mode": {
    "name": "ipython",
    "version": 3
   },
   "file_extension": ".py",
   "mimetype": "text/x-python",
   "name": "python",
   "nbconvert_exporter": "python",
   "pygments_lexer": "ipython3",
   "version": "3.7.7"
  }
 },
 "nbformat": 4,
 "nbformat_minor": 2
}
